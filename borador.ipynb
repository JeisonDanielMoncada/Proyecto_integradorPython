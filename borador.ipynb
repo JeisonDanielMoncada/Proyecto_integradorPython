{
 "cells": [
  {
   "cell_type": "code",
   "execution_count": 6,
   "metadata": {},
   "outputs": [
    {
     "name": "stdout",
     "output_type": "stream",
     "text": [
      "[['.', '.', '#', '#', '#', '#', '#', '#', '#', '#', '#', '#', '#', '#', '#', '#', '#', '#', '#', '#', '#'], ['.', '.', '.', '.', '#', '.', '.', '.', '#', '.', '.', '.', '.', '.', '.', '.', '.', '.', '.', '.', '#'], ['#', '.', '#', '#', '#', '.', '#', '#', '#', '#', '#', '#', '#', '#', '#', '.', '#', '.', '#', '#', '#'], ['#', '.', '.', '.', '#', '.', '.', '.', '.', '.', '.', '.', '.', '.', '#', '.', '#', '.', '#', '.', '#'], ['#', '.', '#', '#', '#', '#', '#', '#', '#', '.', '#', '.', '#', '.', '#', '.', '#', '#', '#', '.', '#'], ['#', '.', '.', '.', '.', '.', '.', '.', '#', '.', '#', '.', '#', '.', '.', '.', '#', '.', '.', '.', '#'], ['#', '#', '#', '#', '#', '#', '#', '.', '#', '.', '#', '#', '#', '.', '#', '.', '#', '#', '#', '.', '#'], ['#', '.', '.', '.', '#', '.', '.', '.', '.', '.', '#', '.', '.', '.', '#', '.', '.', '.', '#', '.', '#'], ['#', '.', '#', '#', '#', '.', '#', '#', '#', '.', '#', '#', '#', '#', '#', '.', '#', '#', '#', '.', '#'], ['#', '.', '#', '.', '.', '.', '#', '.', '.', '.', '#', '.', '.', '.', '.', '.', '#', '.', '.', '.', '#'], ['#', '.', '#', '.', '#', '#', '#', '#', '#', '#', '#', '.', '#', '#', '#', '#', '#', '.', '#', '#', '#'], ['#', '.', '.', '.', '.', '.', '.', '.', '.', '.', '#', '.', '.', '.', '.', '.', '#', '.', '.', '.', '#'], ['#', '#', '#', '.', '#', '#', '#', '#', '#', '.', '#', '.', '#', '.', '#', '#', '#', '.', '#', '.', '#'], ['#', '.', '#', '.', '#', '.', '.', '.', '.', '.', '#', '.', '#', '.', '.', '.', '.', '.', '#', '.', '#'], ['#', '.', '#', '#', '#', '#', '#', '.', '#', '#', '#', '#', '#', '#', '#', '#', '#', '.', '#', '.', '#'], ['#', '.', '.', '.', '.', '.', '.', '.', '.', '.', '#', '.', '.', '.', '.', '.', '.', '.', '#', '.', '#'], ['#', '#', '#', '.', '#', '.', '#', '#', '#', '#', '#', '.', '#', '#', '#', '.', '#', '.', '#', '.', '#'], ['#', '.', '.', '.', '#', '.', '#', '.', '.', '.', '.', '.', '#', '.', '.', '.', '#', '.', '#', '.', '#'], ['#', '.', '#', '#', '#', '#', '#', '#', '#', '.', '#', '#', '#', '#', '#', '.', '#', '#', '#', '.', '#'], ['#', '.', '.', '.', '#', '.', '.', '.', '.', '.', '.', '.', '#', '.', '.', '.', '.', '.', '#', '.', '#'], ['#', '#', '#', '#', '#', '#', '#', '#', '#', '#', '#', '#', '#', '#', '#', '#', '#', '#', '#', '.', '#']]\n"
     ]
    }
   ],
   "source": [
    "laberinto = \"\"\"..###################\n",
    "....#...#...........#\n",
    "#.###.#########.#.###\n",
    "#...#.........#.#.#.#\n",
    "#.#######.#.#.#.###.#\n",
    "#.......#.#.#...#...#\n",
    "#######.#.###.#.###.#\n",
    "#...#.....#...#...#.#\n",
    "#.###.###.#####.###.#\n",
    "#.#...#...#.....#...#\n",
    "#.#.#######.#####.###\n",
    "#.........#.....#...#\n",
    "###.#####.#.#.###.#.#\n",
    "#.#.#.....#.#.....#.#\n",
    "#.#####.#########.#.#\n",
    "#.........#.......#.#\n",
    "###.#.#####.###.#.#.#\n",
    "#...#.#.....#...#.#.#\n",
    "#.#######.#####.###.#\n",
    "#...#.......#.....#.#\n",
    "###################.#\"\"\"\n",
    "\n",
    "# lab= list(laberinto)\n",
    "def conver_matriz (laberinto):\n",
    "    matriz = []\n",
    "    for linea in laberinto.split(\"\\n\"):\n",
    "        matriz.append(list(linea))\n",
    "    return matriz\n",
    "\n",
    "print(conver_matriz(laberinto))\n",
    "\n",
    "# print (matriz)\n",
    "# print (len(matriz))\n",
    "# print (matriz)\n",
    "\n",
    "\n",
    "\n",
    "# def convertir_lista_a_matriz(lab):\n",
    "#     filas = 21\n",
    "#     columnas = 22\n",
    "#     matriz = []\n",
    "#     for i in range(filas):\n",
    "#         fila = lab[i*columnas:(i+1)*columnas]\n",
    "#         matriz.append(fila)\n",
    "#     return matriz\n",
    "\n",
    "\n",
    "\n",
    "\n",
    "import os\n",
    "\n",
    "\n",
    "\n",
    "def mostrar_matriz(matriz):\n",
    "    os.system('cls' if os.name == 'nt' else 'clear')\n",
    "    for laberinto in matriz:\n",
    "        print(' '.join([str(elem) for elem in laberinto]))\n",
    "\n",
    "\n",
    "\n",
    "\n",
    "# matriz = convertir_lista_a_matriz(laberinto,)\n",
    "\n",
    "# print(len(matriz))\n",
    "# print(type(lab))\n",
    "# print(matriz)\n",
    "# mostrar_matriz(matriz)\n",
    "\n",
    "\n",
    "# def main_loop(matriz, posicion_inicial, posicion_final):\n",
    "#     px, py = [0 , 0]\n",
    "\n",
    "#     px, py = posicion_inicial\n",
    "#     posicion_final = [[20][20]]\n",
    "#     while True:\n",
    "#             import readchar\n",
    "\n",
    "#             key = readchar.readkey()\n",
    "\n",
    "#             from readchar import readkey, key\n",
    "#             matriz [0][0] = \"P\"\n",
    "#             k = readkey()\n",
    "#             print(\"Utilice las fechas para econtrar la salida del laberinto\")\n",
    "#             mostrar_matriz(matriz)\n",
    "\n",
    "#             print(f'Posición actual: ({x}, {y})')\n",
    "#             if (x, y) == posicion_final:\n",
    "#                 print('¡Has llegado a la posición final!')\n",
    "#                 break\n",
    "#             comando = input('Introduce un comando (arriba, abajo, izquierda, derecha): ')\n",
    "#             if comando == 'arriba':\n",
    "#                 x -= 1\n",
    "#             elif comando == 'abajo':\n",
    "#                 x += 1\n",
    "#             elif comando == 'izquierda':\n",
    "#                 y -= 1\n",
    "#             elif comando == 'derecha':\n",
    "#                 y += 1"
   ]
  },
  {
   "cell_type": "code",
   "execution_count": 7,
   "metadata": {},
   "outputs": [
    {
     "name": "stdout",
     "output_type": "stream",
     "text": [
      "Presiona una tecla...\n"
     ]
    }
   ],
   "source": [
    "import msvcrt\n",
    "\n",
    "print('Presiona una tecla...')\n",
    "k = msvcrt.getch()\n",
    "print(f'Has presionado la tecla: {k}')"
   ]
  },
  {
   "cell_type": "code",
   "execution_count": 1,
   "metadata": {},
   "outputs": [
    {
     "name": "stdout",
     "output_type": "stream",
     "text": [
      "Bienvenido jugador  jeison\n"
     ]
    }
   ],
   "source": [
    "nom = input(\"Ingrese su nombre de jugador: \") \n",
    "print(\"Bienvenido jugador \", nom)\n",
    "\n",
    "import readchar\n",
    "\n",
    "key = readchar.readkey()\n",
    "\n",
    "from readchar import readkey, key\n",
    "\n",
    "while True:\n",
    "  k = readkey()\n",
    "  print(\"Para que se detenga presione la tecla fecla UP\")\n",
    "  print(k)\n",
    "  if k == key.UP:\n",
    "    # do stuff\n",
    "    break"
   ]
  }
 ],
 "metadata": {
  "kernelspec": {
   "display_name": "Python 3",
   "language": "python",
   "name": "python3"
  },
  "language_info": {
   "codemirror_mode": {
    "name": "ipython",
    "version": 3
   },
   "file_extension": ".py",
   "mimetype": "text/x-python",
   "name": "python",
   "nbconvert_exporter": "python",
   "pygments_lexer": "ipython3",
   "version": "3.11.4"
  },
  "orig_nbformat": 4
 },
 "nbformat": 4,
 "nbformat_minor": 2
}
